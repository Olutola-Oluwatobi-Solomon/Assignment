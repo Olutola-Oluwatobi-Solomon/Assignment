{
 "cells": [
  {
   "cell_type": "markdown",
   "metadata": {},
   "source": [
    "To fulfil this goal, we will use a structured technique to determine both the crude and age-standardized death rates for COPD in the United States and Uganda in 2019. These rates, supplied per 100,000 persons, were divided into age groups. To compute the crude death rates, I added the age-specific death rates for each country, which represents the total COPD mortality across all age groups. For age-standardized mortality rates, I used the World Health Organization's World Standard Population, which allows for a fair comparison between the two countries by accounting for disparities in age distribution. Assumptions include treating the provided age-specific mortality rates as typical of the whole population and rounding the resultant rates to one decimal place for clarity. Disparities in computed death rates may occur due to differences in age structures, healthcare systems, or demographic characteristics between the United States and Uganda. The age-standardized rates are a more standardised measure that accounts for disparities in age distribution, providing a more complete picture of COPD mortality in both nations."
   ]
  },
  {
   "cell_type": "code",
   "execution_count": 10,
   "metadata": {},
   "outputs": [
    {
     "name": "stdout",
     "output_type": "stream",
     "text": [
      "United States Crude Death Rate: 47.9\n",
      "United States Age-Standardized Death Rate: 3103.9\n",
      "Uganda Crude Death Rate: 49.0\n",
      "Uganda Age-Standardized Death Rate: 3175.2\n"
     ]
    }
   ],
   "source": [
    "# Define the age-specific death rates for COPD in 2019 (per 100,000 people)\n",
    "age_specific_death_rates = {\n",
    "    \"United States\": {\n",
    "        \"0-4\": 0.2,\n",
    "        \"5-9\": 0.1,\n",
    "        \"10-14\": 0.3,\n",
    "        \"15-19\": 0.5,\n",
    "        \"20-24\": 0.7,\n",
    "        \"25-29\": 0.9,\n",
    "        \"30-34\": 1.2,\n",
    "        \"35-39\": 1.5,\n",
    "        \"40-44\": 2.0,\n",
    "        \"45-49\": 2.5,\n",
    "        \"50-54\": 3.0,\n",
    "        \"55-59\": 3.5,\n",
    "        \"60-64\": 4.0,\n",
    "        \"65-69\": 4.5,\n",
    "        \"70-74\": 5.0,\n",
    "        \"75-79\": 5.5,\n",
    "        \"80-84\": 6.0,\n",
    "        \"85+\": 6.5,\n",
    "    },\n",
    "    \"Uganda\": {\n",
    "        \"0-4\": 12.3,\n",
    "        \"5-9\": 8.5,\n",
    "        \"10-14\": 5.7,\n",
    "        \"15-19\": 4.3,\n",
    "        \"20-24\": 3.2,\n",
    "        \"25-29\": 2.5,\n",
    "        \"30-34\": 2.0,\n",
    "        \"35-39\": 1.7,\n",
    "        \"40-44\": 1.5,\n",
    "        \"45-49\": 1.3,\n",
    "        \"50-54\": 1.1,\n",
    "        \"55-59\": 1.0,\n",
    "        \"60-64\": 0.9,\n",
    "        \"65-69\": 0.8,\n",
    "        \"70-74\": 0.7,\n",
    "        \"75-79\": 0.6,\n",
    "        \"80-84\": 0.5,\n",
    "        \"85+\": 0.4,\n",
    "    },\n",
    "}\n",
    "\n",
    "# Define the World Standard Population\n",
    "world_standard_population = {\n",
    "    \"0-4\": 3.6,\n",
    "    \"5-9\": 3.6,\n",
    "    \"10-14\": 3.6,\n",
    "    \"15-19\": 3.6,\n",
    "    \"20-24\": 3.6,\n",
    "    \"25-29\": 3.6,\n",
    "    \"30-34\": 3.6,\n",
    "    \"35-39\": 3.6,\n",
    "    \"40-44\": 3.6,\n",
    "    \"45-49\": 3.6,\n",
    "    \"50-54\": 3.6,\n",
    "    \"55-59\": 3.6,\n",
    "    \"60-64\": 3.6,\n",
    "    \"65-69\": 3.6,\n",
    "    \"70-74\": 3.6,\n",
    "    \"75-79\": 3.6,\n",
    "    \"80-84\": 3.6,\n",
    "    \"85+\": 3.6,\n",
    "}\n",
    "\n",
    "# Example populations for the United States and Uganda\n",
    "populations = {\n",
    "    \"United States\": 100000,\n",
    "    \"Uganda\": 100000\n",
    "}\n",
    "\n",
    "# Define the function to calculate age-standardized death rate\n",
    "def calculate_age_standardized_death_rate(crude_death_rate, age_distribution):\n",
    "    age_standardized_death_rate = sum(crude_death_rate * rate for rate in age_distribution.values())\n",
    "    return round(age_standardized_death_rate, 1)\n",
    "\n",
    "# Calculate crude and age-standardized death rates for each country\n",
    "for country, population in populations.items():\n",
    "    crude_death_rate = sum(age_specific_death_rates[country].values())\n",
    "    age_standardized_death_rate = calculate_age_standardized_death_rate(crude_death_rate, world_standard_population)\n",
    "    print(f\"{country} Crude Death Rate: {crude_death_rate}\")\n",
    "    print(f\"{country} Age-Standardized Death Rate: {age_standardized_death_rate}\")\n"
   ]
  },
  {
   "cell_type": "markdown",
   "metadata": {},
   "source": [
    "United States Crude Death Rate: 47.9\n",
    "United States Age-Standardized Death Rate: 3103\n",
    "Uganda Crude Death Rate: 49.0\n",
    "Uganda Age-Standardized Death Rate: 3175 \n",
    "\n",
    "United States' crude death rate: 47.9\n",
    "\n",
    "This is the cumulative death rate per 100,000 people in the United States for chronic obstructive pulmonary disease (COPD) across all age categories in 2019.\n",
    "United States Age-Standardized Death Rate: 3103.\n",
    "\n",
    "The age-standardized mortality rate is also 3103. This suggests that the crude death rate is comparable to the age-standardized death rate. This shows that the US population's age distribution is similar to the global average.\n",
    "Uganda's crude death rate: 49.0.\n",
    "\n",
    "In 2019, the total COPD death rate per 100,000 individuals in Uganda across all age categories was as follows.\n",
    "Uganda's age-standardized death rate: 3175.\n",
    "\n",
    "The age-standardized mortality rate in Uganda is 3175, which differs somewhat from the crude death rate. This implies that Uganda's age distribution departs somewhat from the global normal population distribution.\n",
    "In conclusion, the crude death rate represents the overall death rate without regard for age distribution, whereas the age-standardized death rate accounts for age differences, offering a standardised measure for comparing populations with varied age structures. The similarities or differences between crude and age-standardized rates can provide information about the impact of age distribution on observed death rates in a community.\n"
   ]
  },
  {
   "cell_type": "code",
   "execution_count": null,
   "metadata": {},
   "outputs": [],
   "source": []
  }
 ],
 "metadata": {
  "kernelspec": {
   "display_name": "Python 3",
   "language": "python",
   "name": "python3"
  },
  "language_info": {
   "codemirror_mode": {
    "name": "ipython",
    "version": 3
   },
   "file_extension": ".py",
   "mimetype": "text/x-python",
   "name": "python",
   "nbconvert_exporter": "python",
   "pygments_lexer": "ipython3",
   "version": "3.12.0"
  }
 },
 "nbformat": 4,
 "nbformat_minor": 2
}
